{
 "cells": [
  {
   "cell_type": "code",
   "execution_count": 101,
   "metadata": {},
   "outputs": [],
   "source": [
    "import netCDF4\n",
    "from netCDF4 import Dataset\n",
    "import os\n",
    "from os.path import dirname\n",
    "import numpy as np\n",
    "import cartopy.crs as ccrs\n",
    "import cartopy.feature as cfeature\n",
    "from cartopy.mpl.gridliner import LONGITUDE_FORMATTER, LATITUDE_FORMATTER\n",
    "import matplotlib \n",
    "import matplotlib.pyplot as plt\n",
    "from math import pi\n",
    "from numpy import cos,sin\n",
    "from scipy.spatial import cKDTree\n",
    "from numpy import absolute as abs\n",
    "import numpy.ma as ma\n",
    "import sys\n",
    "from ipywidgets import interact, interactive, fixed, interact_manual\n",
    "import ipywidgets as widgets\n",
    "from IPython.display import clear_output"
   ]
  },
  {
   "cell_type": "code",
   "execution_count": 150,
   "metadata": {},
   "outputs": [],
   "source": [
    "## Open dataset and store variables in var_values dictionary. Units are in var_units dictionary. Names in var_names\n",
    "\n",
    "# Select dataset\n",
    "'''\n",
    "Choose the dataset:\n",
    "    1: CHL-model\n",
    "    2: CHL-satellite\n",
    "    3: DOXYL-model\n",
    "    4: NITR-model\n",
    "    5: PHOS-model\n",
    "    6: SPM-satellite\n",
    "'''\n",
    "\n",
    "folder = dirname(dirname(os.getcwd())) + '\\\\Data_WQ\\\\' #The folder where the datasets are\n",
    "# num_dataset = 1 #Change the number here\n",
    "\n",
    "def select_dataset(num_dataset):\n",
    "    # Open dataset\n",
    "    if num_dataset == 2:\n",
    "        file = folder + \"dataset-CHL-satellite-daily.nc\"\n",
    "        selected_variable = 'CHL'\n",
    "        text = 'Mass concentration of chlorophyll-a in sea water - satellite'\n",
    "    elif num_dataset == 3:\n",
    "        file = folder + \"dataset-DOXYL-model-daily.nc\"\n",
    "        selected_variable = 'o2'\n",
    "        text = 'Mole concentration of dissolved molecular oxygen in sea water - model'\n",
    "    elif num_dataset == 4:\n",
    "        file = folder + \"dataset-NITR-model-daily.nc\"\n",
    "        selected_variable = 'no3'\n",
    "        text = 'Mole concentration of nitrate in sea water - model'\n",
    "    elif num_dataset == 5:\n",
    "        file = folder + \"dataset-PHOS-model-daily.nc\"\n",
    "        selected_variable = 'po4'\n",
    "        text = 'Mole concentration of phosphate in sea water - model'\n",
    "    elif num_dataset == 6:\n",
    "        file = folder + \"dataset-SPM-satellite-monthly.nc\"\n",
    "        selected_variable = 'SPM'\n",
    "        text = 'Mass concentration of inorganic suspended matter in sea water - satellite'\n",
    "    else:\n",
    "        file = folder + \"dataset-CHL-model-daily.nc\"\n",
    "        selected_variable = 'chl'\n",
    "        text = 'Mass concentration of chlorophyll-a in sea water - model'\n",
    "\n",
    "    dataset = Dataset(file, \"r\")\n",
    "    print('Using dataset {}'.format(file))\n",
    "\n",
    "    # Save variables, units and names\n",
    "    global var_values, var_units, var_names\n",
    "\n",
    "    var_values = {}\n",
    "    var_units = {}\n",
    "    var_names = {}\n",
    "\n",
    "    for k in dataset.variables.keys():\n",
    "        # Standardize keys 'latitude' and 'longitude'\n",
    "        if k == 'lat':\n",
    "            k_new = 'latitude'\n",
    "        elif k == 'lon':\n",
    "            k_new = 'longitude'\n",
    "        else:\n",
    "            k_new = k\n",
    "\n",
    "        var_units[k_new] = dataset.variables[k].units # Save units\n",
    "        var_names[k_new] = dataset.variables[k].long_name # Save name\n",
    "        if 'time' in var_names[k_new]: #Save time\n",
    "            var_values[k_new] = netCDF4.num2date(dataset.variables[k][:],var_units[k_new], only_use_cftime_datetimes=False, only_use_python_datetimes = True)\n",
    "        else:\n",
    "            var_values[k_new] = dataset.variables[k][:]\n",
    "\n",
    "        # Remove single-dimensional entries\n",
    "        var_values[k_new] = np.squeeze(var_values[k_new])\n",
    "\n",
    "    # Close dataset\n",
    "    dataset.close()"
   ]
  },
  {
   "cell_type": "code",
   "execution_count": 121,
   "metadata": {},
   "outputs": [],
   "source": [
    "## Plot\n",
    "def plot_map(timestep):\n",
    "    if timestep > var_values['time'].size-1:\n",
    "        print('The timestep selected does not exist')\n",
    "        return\n",
    "    # Take values of variable at timestep\n",
    "    var_plot = var_values[selected_variable][timestep,:,:]\n",
    "\n",
    "    # Initialize plot\n",
    "    matplotlib.rcParams['figure.figsize'] = (10,10) \n",
    "\n",
    "    # Initialize map\n",
    "    proj=ccrs.Mercator()\n",
    "    m = plt.axes(projection=proj)\n",
    "\n",
    "    # Format map\n",
    "    m.stock_img()\n",
    "    m.coastlines(resolution='110m')\n",
    "    m.add_feature(cfeature.BORDERS)\n",
    "    gl=m.gridlines(crs=ccrs.PlateCarree(), draw_labels=True,\n",
    "                      linewidth=2, color='gray', alpha=0.5, linestyle='--')\n",
    "    gl.xformatter = LONGITUDE_FORMATTER\n",
    "    gl.yformatter = LATITUDE_FORMATTER\n",
    "    gl.xlabels_top = False\n",
    "    gl.ylabels_right = False\n",
    "\n",
    "    # Plot data\n",
    "    plt.contourf(var_values['longitude'], var_values['latitude'], var_plot, 60,\n",
    "                 transform=ccrs.PlateCarree())\n",
    "\n",
    "    # Add Colorbar\n",
    "    cbar = plt.colorbar()\n",
    "    cbar.set_label(var_units[selected_variable])\n",
    "\n",
    "    # Add Title\n",
    "    plt.title(text)\n",
    "    plt.show()"
   ]
  },
  {
   "cell_type": "code",
   "execution_count": 48,
   "metadata": {},
   "outputs": [],
   "source": [
    "def timestep2date(timestep):\n",
    "    print('The date corresponding to that timestep is ' + var_values['time'][timestep].strftime(\"%d-%m-%Y %H:%M:%S\"))"
   ]
  },
  {
   "cell_type": "code",
   "execution_count": 145,
   "metadata": {},
   "outputs": [],
   "source": [
    "def on_button_clicked(b):\n",
    "    clear_output(wait=True)\n",
    "    display(button)\n",
    "    plot_map(timestep_slider.value)"
   ]
  },
  {
   "cell_type": "code",
   "execution_count": 155,
   "metadata": {},
   "outputs": [
    {
     "name": "stdout",
     "output_type": "stream",
     "text": [
      "Choose dataset\n"
     ]
    },
    {
     "data": {
      "application/vnd.jupyter.widget-view+json": {
       "model_id": "5123229bd66d4182b9f795b1bf40099e",
       "version_major": 2,
       "version_minor": 0
      },
      "text/plain": [
       "interactive(children=(Dropdown(description='num_dataset', options=(('Chlorophyll-model', 1), ('Chlorophyll-sat…"
      ]
     },
     "metadata": {},
     "output_type": "display_data"
    },
    {
     "data": {
      "text/plain": [
       "<function __main__.select_dataset(num_dataset)>"
      ]
     },
     "execution_count": 155,
     "metadata": {},
     "output_type": "execute_result"
    }
   ],
   "source": [
    "print('Choose dataset')\n",
    "interact_manual(select_dataset, num_dataset=[('Chlorophyll-model', 1), ('Chlorophyll-satellite', 2), ('Oxygen-model', 3), ('Nitrate-model', 4), ('Phosphate-model', 5), ('Suspended matter-satellite', 6)])"
   ]
  },
  {
   "cell_type": "code",
   "execution_count": 156,
   "metadata": {},
   "outputs": [
    {
     "name": "stdout",
     "output_type": "stream",
     "text": [
      "Check timestep-date correspondence\n"
     ]
    },
    {
     "data": {
      "application/vnd.jupyter.widget-view+json": {
       "model_id": "6e0ef3c3f6484093b1bf0a34f234b833",
       "version_major": 2,
       "version_minor": 0
      },
      "text/plain": [
       "interactive(children=(IntSlider(value=0, description='Timestep', max=7660), Output()), _dom_classes=('widget-i…"
      ]
     },
     "metadata": {},
     "output_type": "display_data"
    },
    {
     "data": {
      "text/plain": [
       "<function __main__.timestep2date(timestep)>"
      ]
     },
     "execution_count": 156,
     "metadata": {},
     "output_type": "execute_result"
    }
   ],
   "source": [
    "print('Check timestep-date correspondence')\n",
    "timestep_slider = widgets.IntSlider(value = 0, min = 0, max = var_values['time'].size-1, description='Timestep')\n",
    "button = widgets.Button(description=\"Plot\")\n",
    "interact(timestep2date,timestep = timestep_slider)"
   ]
  },
  {
   "cell_type": "code",
   "execution_count": 157,
   "metadata": {},
   "outputs": [
    {
     "data": {
      "application/vnd.jupyter.widget-view+json": {
       "model_id": "d6bfad0b6274466cbb4b88434e6bc6f5",
       "version_major": 2,
       "version_minor": 0
      },
      "text/plain": [
       "Button(description='Plot', style=ButtonStyle())"
      ]
     },
     "metadata": {},
     "output_type": "display_data"
    }
   ],
   "source": [
    "display(button)\n",
    "button.on_click(on_button_clicked)"
   ]
  },
  {
   "cell_type": "code",
   "execution_count": null,
   "metadata": {},
   "outputs": [],
   "source": []
  }
 ],
 "metadata": {
  "kernelspec": {
   "display_name": "Python 3",
   "language": "python",
   "name": "python3"
  },
  "language_info": {
   "codemirror_mode": {
    "name": "ipython",
    "version": 3
   },
   "file_extension": ".py",
   "mimetype": "text/x-python",
   "name": "python",
   "nbconvert_exporter": "python",
   "pygments_lexer": "ipython3",
   "version": "3.8.2"
  }
 },
 "nbformat": 4,
 "nbformat_minor": 4
}
